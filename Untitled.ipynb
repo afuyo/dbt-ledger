{
 "cells": [
  {
   "cell_type": "code",
   "execution_count": 1,
   "id": "30cc5a81",
   "metadata": {},
   "outputs": [],
   "source": [
    "import pandas as pd"
   ]
  },
  {
   "cell_type": "code",
   "execution_count": 8,
   "id": "9ef1379a",
   "metadata": {},
   "outputs": [],
   "source": [
    "df = pd.DataFrame({'comp':['dell notebook', 'DELL notebook S3', 'dell notepad', 'apple ipad', 'apple ipad2', 'acer chromebook', 'acer chromebookx', 'mac air', 'mac pro', 'lenovo x4'],\n",
    "              'price':range(10)})"
   ]
  },
  {
   "cell_type": "code",
   "execution_count": 9,
   "id": "2c6a2bee",
   "metadata": {},
   "outputs": [],
   "source": [
    "product_map = {'dell':'Dell Inc.',\n",
    "               'apple':'Apple Inc.',\n",
    "               'acer': 'Acer Inc.',\n",
    "               'mac': 'Apple Inc.',\n",
    "               'lenovo': 'Dell Inc.'}"
   ]
  },
  {
   "cell_type": "code",
   "execution_count": 10,
   "id": "b45586d8",
   "metadata": {},
   "outputs": [],
   "source": [
    "def like_function(x):\n",
    "    group = \"unknown\"\n",
    "    for key in product_map:\n",
    "        if key in x:\n",
    "            group = product_map[key]\n",
    "            break\n",
    "    return group"
   ]
  },
  {
   "cell_type": "code",
   "execution_count": 11,
   "id": "f43e3fd2",
   "metadata": {},
   "outputs": [],
   "source": [
    "df['company'] = df.comp.apply(like_function)"
   ]
  },
  {
   "cell_type": "code",
   "execution_count": 17,
   "id": "c994a0fc",
   "metadata": {},
   "outputs": [
    {
     "data": {
      "text/plain": [
       "(10, 3)"
      ]
     },
     "execution_count": 17,
     "metadata": {},
     "output_type": "execute_result"
    }
   ],
   "source": [
    "df.shape"
   ]
  },
  {
   "cell_type": "code",
   "execution_count": 13,
   "id": "186ece28",
   "metadata": {},
   "outputs": [
    {
     "data": {
      "text/plain": [
       "comp       object\n",
       "price       int64\n",
       "company    object\n",
       "dtype: object"
      ]
     },
     "execution_count": 13,
     "metadata": {},
     "output_type": "execute_result"
    }
   ],
   "source": [
    "df.dtypes"
   ]
  },
  {
   "cell_type": "code",
   "execution_count": 16,
   "id": "1c9fa7dd",
   "metadata": {},
   "outputs": [
    {
     "data": {
      "text/plain": [
       "'Dell Inc.'"
      ]
     },
     "execution_count": 16,
     "metadata": {},
     "output_type": "execute_result"
    }
   ],
   "source": [
    "like_function('2002 dell notebook')"
   ]
  },
  {
   "cell_type": "code",
   "execution_count": 18,
   "id": "2dabe187",
   "metadata": {},
   "outputs": [
    {
     "data": {
      "text/plain": [
       "0     Dell Inc.\n",
       "1       unknown\n",
       "2     Dell Inc.\n",
       "3    Apple Inc.\n",
       "4    Apple Inc.\n",
       "5     Acer Inc.\n",
       "6     Acer Inc.\n",
       "7    Apple Inc.\n",
       "8    Apple Inc.\n",
       "9     Dell Inc.\n",
       "Name: comp, dtype: object"
      ]
     },
     "execution_count": 18,
     "metadata": {},
     "output_type": "execute_result"
    }
   ],
   "source": [
    "df.comp.apply(like_function)"
   ]
  },
  {
   "cell_type": "code",
   "execution_count": 19,
   "id": "808018d2",
   "metadata": {},
   "outputs": [
    {
     "data": {
      "text/plain": [
       "RangeIndex(start=0, stop=10, step=1)"
      ]
     },
     "execution_count": 19,
     "metadata": {},
     "output_type": "execute_result"
    }
   ],
   "source": [
    "df.index"
   ]
  },
  {
   "cell_type": "code",
   "execution_count": 20,
   "id": "c5fa8614",
   "metadata": {},
   "outputs": [
    {
     "data": {
      "text/plain": [
       "(10,)"
      ]
     },
     "execution_count": 20,
     "metadata": {},
     "output_type": "execute_result"
    }
   ],
   "source": [
    "df.comp.shape"
   ]
  },
  {
   "cell_type": "code",
   "execution_count": 21,
   "id": "781fb001",
   "metadata": {},
   "outputs": [
    {
     "data": {
      "text/plain": [
       "pandas.core.series.Series"
      ]
     },
     "execution_count": 21,
     "metadata": {},
     "output_type": "execute_result"
    }
   ],
   "source": [
    "type(df.comp)"
   ]
  },
  {
   "cell_type": "code",
   "execution_count": 22,
   "id": "1b20bda1",
   "metadata": {},
   "outputs": [
    {
     "data": {
      "text/plain": [
       "pandas.core.frame.DataFrame"
      ]
     },
     "execution_count": 22,
     "metadata": {},
     "output_type": "execute_result"
    }
   ],
   "source": [
    "type(df)"
   ]
  }
 ],
 "metadata": {
  "kernelspec": {
   "display_name": "Python 3 (ipykernel)",
   "language": "python",
   "name": "python3"
  },
  "language_info": {
   "codemirror_mode": {
    "name": "ipython",
    "version": 3
   },
   "file_extension": ".py",
   "mimetype": "text/x-python",
   "name": "python",
   "nbconvert_exporter": "python",
   "pygments_lexer": "ipython3",
   "version": "3.10.6"
  }
 },
 "nbformat": 4,
 "nbformat_minor": 5
}
