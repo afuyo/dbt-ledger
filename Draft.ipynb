{
 "cells": [
  {
   "cell_type": "code",
   "execution_count": 1,
   "id": "871de20a",
   "metadata": {},
   "outputs": [],
   "source": [
    "import numpy as np\n",
    "import matplotlib.pyplot as plt\n",
    "import pandas as pd\n",
    "import seaborn as sns\n",
    "import statsmodels as sm"
   ]
  },
  {
   "cell_type": "code",
   "execution_count": 172,
   "id": "00ea309a",
   "metadata": {},
   "outputs": [],
   "source": [
    "#df = pd.read_excel(\"data/91508831221_2022-08-01-2022-09-05.xlsx\")\n",
    "df = pd.read_excel(\"data/91508831221_2022-01-01-2022-09-05.xlsx\")"
   ]
  },
  {
   "cell_type": "code",
   "execution_count": 173,
   "id": "1d18aab7",
   "metadata": {},
   "outputs": [],
   "source": [
    "df.columns=['BokfDatum', 'Beskrivning','Belopp', 'Saldo']"
   ]
  },
  {
   "cell_type": "code",
   "execution_count": 174,
   "id": "a18929b4",
   "metadata": {},
   "outputs": [],
   "source": [
    "df.iloc[:3,]=np.nan\n",
    "df=df.dropna(how=\"all\")\n"
   ]
  },
  {
   "cell_type": "code",
   "execution_count": 222,
   "id": "818d44d4",
   "metadata": {},
   "outputs": [],
   "source": [
    "df= df.sort_values(by='BokfDatum')"
   ]
  },
  {
   "cell_type": "code",
   "execution_count": 223,
   "id": "b87cd496",
   "metadata": {},
   "outputs": [
    {
     "data": {
      "text/html": [
       "<div>\n",
       "<style scoped>\n",
       "    .dataframe tbody tr th:only-of-type {\n",
       "        vertical-align: middle;\n",
       "    }\n",
       "\n",
       "    .dataframe tbody tr th {\n",
       "        vertical-align: top;\n",
       "    }\n",
       "\n",
       "    .dataframe thead th {\n",
       "        text-align: right;\n",
       "    }\n",
       "</style>\n",
       "<table border=\"1\" class=\"dataframe\">\n",
       "  <thead>\n",
       "    <tr style=\"text-align: right;\">\n",
       "      <th></th>\n",
       "      <th>BokfDatum</th>\n",
       "      <th>Beskrivning</th>\n",
       "      <th>Belopp</th>\n",
       "      <th>Saldo</th>\n",
       "      <th>kategori</th>\n",
       "      <th>month</th>\n",
       "    </tr>\n",
       "  </thead>\n",
       "  <tbody>\n",
       "    <tr>\n",
       "      <th>1062</th>\n",
       "      <td>2022-01-03</td>\n",
       "      <td>2021-12-30 ICA NARA LUNDEN, GOTEBORG</td>\n",
       "      <td>-173.8</td>\n",
       "      <td>27144.62</td>\n",
       "      <td>FOOD</td>\n",
       "      <td>Januari</td>\n",
       "    </tr>\n",
       "    <tr>\n",
       "      <th>1054</th>\n",
       "      <td>2022-01-03</td>\n",
       "      <td>2021-12-30 ICA FOCUS, GOTEBORG</td>\n",
       "      <td>-467.95</td>\n",
       "      <td>24693.85</td>\n",
       "      <td>FOOD</td>\n",
       "      <td>Januari</td>\n",
       "    </tr>\n",
       "    <tr>\n",
       "      <th>1050</th>\n",
       "      <td>2022-01-03</td>\n",
       "      <td>2022-01-01 ICA KVANTUM EMPORIA, MALMO</td>\n",
       "      <td>-618.49</td>\n",
       "      <td>21759.36</td>\n",
       "      <td>FOOD</td>\n",
       "      <td>Januari</td>\n",
       "    </tr>\n",
       "    <tr>\n",
       "      <th>1043</th>\n",
       "      <td>2022-01-05</td>\n",
       "      <td>2022-01-04 ICA KVANTUM EMPORIA, MALMO</td>\n",
       "      <td>-610.45</td>\n",
       "      <td>5392.02</td>\n",
       "      <td>FOOD</td>\n",
       "      <td>Januari</td>\n",
       "    </tr>\n",
       "    <tr>\n",
       "      <th>1037</th>\n",
       "      <td>2022-01-07</td>\n",
       "      <td>2022-01-06 WILLYS VELLINGE, VELLINGE</td>\n",
       "      <td>-226.67</td>\n",
       "      <td>4922.63</td>\n",
       "      <td>FOOD</td>\n",
       "      <td>Januari</td>\n",
       "    </tr>\n",
       "    <tr>\n",
       "      <th>...</th>\n",
       "      <td>...</td>\n",
       "      <td>...</td>\n",
       "      <td>...</td>\n",
       "      <td>...</td>\n",
       "      <td>...</td>\n",
       "      <td>...</td>\n",
       "    </tr>\n",
       "    <tr>\n",
       "      <th>15</th>\n",
       "      <td>2022-09-02</td>\n",
       "      <td>2022-09-01 COOP VÄSTRA HAMNEN, ARLÖV</td>\n",
       "      <td>-105.07</td>\n",
       "      <td>34806.26</td>\n",
       "      <td>FOOD</td>\n",
       "      <td>September</td>\n",
       "    </tr>\n",
       "    <tr>\n",
       "      <th>8</th>\n",
       "      <td>2022-09-05</td>\n",
       "      <td>2022-09-02 WILLYS VELLINGE, VELLINGE</td>\n",
       "      <td>-30.84</td>\n",
       "      <td>33793.42</td>\n",
       "      <td>FOOD</td>\n",
       "      <td>September</td>\n",
       "    </tr>\n",
       "    <tr>\n",
       "      <th>7</th>\n",
       "      <td>2022-09-05</td>\n",
       "      <td>2022-09-02 MAXI ICA STORMARKNAD MALM, MALMO</td>\n",
       "      <td>-1055.61</td>\n",
       "      <td>32737.81</td>\n",
       "      <td>FOOD</td>\n",
       "      <td>September</td>\n",
       "    </tr>\n",
       "    <tr>\n",
       "      <th>6</th>\n",
       "      <td>2022-09-05</td>\n",
       "      <td>2022-09-03 ICA KVANTUM VELLINGE, VELLINGE</td>\n",
       "      <td>-22.8</td>\n",
       "      <td>32715.01</td>\n",
       "      <td>FOOD</td>\n",
       "      <td>September</td>\n",
       "    </tr>\n",
       "    <tr>\n",
       "      <th>4</th>\n",
       "      <td>2022-09-05</td>\n",
       "      <td>2022-09-03 WILLYS VELLINGE, VELLINGE</td>\n",
       "      <td>-245</td>\n",
       "      <td>30430.01</td>\n",
       "      <td>FOOD</td>\n",
       "      <td>September</td>\n",
       "    </tr>\n",
       "  </tbody>\n",
       "</table>\n",
       "<p>180 rows × 6 columns</p>\n",
       "</div>"
      ],
      "text/plain": [
       "       BokfDatum                                  Beskrivning   Belopp  \\\n",
       "1062  2022-01-03         2021-12-30 ICA NARA LUNDEN, GOTEBORG   -173.8   \n",
       "1054  2022-01-03               2021-12-30 ICA FOCUS, GOTEBORG  -467.95   \n",
       "1050  2022-01-03        2022-01-01 ICA KVANTUM EMPORIA, MALMO  -618.49   \n",
       "1043  2022-01-05        2022-01-04 ICA KVANTUM EMPORIA, MALMO  -610.45   \n",
       "1037  2022-01-07         2022-01-06 WILLYS VELLINGE, VELLINGE  -226.67   \n",
       "...          ...                                          ...      ...   \n",
       "15    2022-09-02         2022-09-01 COOP VÄSTRA HAMNEN, ARLÖV  -105.07   \n",
       "8     2022-09-05         2022-09-02 WILLYS VELLINGE, VELLINGE   -30.84   \n",
       "7     2022-09-05  2022-09-02 MAXI ICA STORMARKNAD MALM, MALMO -1055.61   \n",
       "6     2022-09-05    2022-09-03 ICA KVANTUM VELLINGE, VELLINGE    -22.8   \n",
       "4     2022-09-05         2022-09-03 WILLYS VELLINGE, VELLINGE     -245   \n",
       "\n",
       "         Saldo kategori      month  \n",
       "1062  27144.62     FOOD    Januari  \n",
       "1054  24693.85     FOOD    Januari  \n",
       "1050  21759.36     FOOD    Januari  \n",
       "1043   5392.02     FOOD    Januari  \n",
       "1037   4922.63     FOOD    Januari  \n",
       "...        ...      ...        ...  \n",
       "15    34806.26     FOOD  September  \n",
       "8     33793.42     FOOD  September  \n",
       "7     32737.81     FOOD  September  \n",
       "6     32715.01     FOOD  September  \n",
       "4     30430.01     FOOD  September  \n",
       "\n",
       "[180 rows x 6 columns]"
      ]
     },
     "execution_count": 223,
     "metadata": {},
     "output_type": "execute_result"
    }
   ],
   "source": [
    "df"
   ]
  },
  {
   "cell_type": "code",
   "execution_count": 157,
   "id": "b9c33e4d",
   "metadata": {},
   "outputs": [],
   "source": [
    "spend_map={'ICA':'FOOD',\n",
    "          'COOP':'FOOD',\n",
    "          'WILLYS':'FOOD'}"
   ]
  },
  {
   "cell_type": "code",
   "execution_count": 171,
   "id": "c611e4dd",
   "metadata": {},
   "outputs": [],
   "source": [
    "month_map={'2022-01': 'Januari',\n",
    "           '2022-02': 'Februari',\n",
    "           '2022-03': 'Mars',\n",
    "           '2022-04': 'April',\n",
    "           '2022-05': 'Maj',\n",
    "           '2022-06': 'Juni',\n",
    "           '2022-07': 'Juli',\n",
    "           '2022-08': 'Augusti',\n",
    "          '2022-09': 'September',\n",
    "          '2022-10': 'Oktober',\n",
    "          '2022-11': 'November',\n",
    "           '2022-12': 'December'}"
   ]
  },
  {
   "cell_type": "code",
   "execution_count": 158,
   "id": "6ed751a3",
   "metadata": {},
   "outputs": [],
   "source": [
    "def like_function(x):\n",
    "    group = \"unknown\"\n",
    "    for key in spend_map:\n",
    "        if key in x:\n",
    "            group = spend_map[key]\n",
    "            break\n",
    "    return group"
   ]
  },
  {
   "cell_type": "code",
   "execution_count": 160,
   "id": "94e84ce0",
   "metadata": {},
   "outputs": [],
   "source": [
    "def like_function2(x):\n",
    "    group = \"unknown\"\n",
    "    for key in month_map:\n",
    "        if key in x:\n",
    "            group = month_map[key]\n",
    "            break\n",
    "    return group\n",
    "    "
   ]
  },
  {
   "cell_type": "code",
   "execution_count": 224,
   "id": "d323f859",
   "metadata": {},
   "outputs": [],
   "source": [
    "df['kategori'] = df.Beskrivning.apply(like_function)"
   ]
  },
  {
   "cell_type": "code",
   "execution_count": 225,
   "id": "8d7c152e",
   "metadata": {},
   "outputs": [],
   "source": [
    "df['month']= df.BokfDatum.apply(like_function2)"
   ]
  },
  {
   "cell_type": "code",
   "execution_count": 226,
   "id": "16c4c3f2",
   "metadata": {},
   "outputs": [
    {
     "data": {
      "text/html": [
       "<div>\n",
       "<style scoped>\n",
       "    .dataframe tbody tr th:only-of-type {\n",
       "        vertical-align: middle;\n",
       "    }\n",
       "\n",
       "    .dataframe tbody tr th {\n",
       "        vertical-align: top;\n",
       "    }\n",
       "\n",
       "    .dataframe thead th {\n",
       "        text-align: right;\n",
       "    }\n",
       "</style>\n",
       "<table border=\"1\" class=\"dataframe\">\n",
       "  <thead>\n",
       "    <tr style=\"text-align: right;\">\n",
       "      <th></th>\n",
       "      <th>BokfDatum</th>\n",
       "      <th>Beskrivning</th>\n",
       "      <th>Belopp</th>\n",
       "      <th>Saldo</th>\n",
       "      <th>kategori</th>\n",
       "      <th>month</th>\n",
       "    </tr>\n",
       "  </thead>\n",
       "  <tbody>\n",
       "    <tr>\n",
       "      <th>1062</th>\n",
       "      <td>2022-01-03</td>\n",
       "      <td>2021-12-30 ICA NARA LUNDEN, GOTEBORG</td>\n",
       "      <td>-173.8</td>\n",
       "      <td>27144.62</td>\n",
       "      <td>FOOD</td>\n",
       "      <td>Januari</td>\n",
       "    </tr>\n",
       "    <tr>\n",
       "      <th>1054</th>\n",
       "      <td>2022-01-03</td>\n",
       "      <td>2021-12-30 ICA FOCUS, GOTEBORG</td>\n",
       "      <td>-467.95</td>\n",
       "      <td>24693.85</td>\n",
       "      <td>FOOD</td>\n",
       "      <td>Januari</td>\n",
       "    </tr>\n",
       "    <tr>\n",
       "      <th>1050</th>\n",
       "      <td>2022-01-03</td>\n",
       "      <td>2022-01-01 ICA KVANTUM EMPORIA, MALMO</td>\n",
       "      <td>-618.49</td>\n",
       "      <td>21759.36</td>\n",
       "      <td>FOOD</td>\n",
       "      <td>Januari</td>\n",
       "    </tr>\n",
       "    <tr>\n",
       "      <th>1043</th>\n",
       "      <td>2022-01-05</td>\n",
       "      <td>2022-01-04 ICA KVANTUM EMPORIA, MALMO</td>\n",
       "      <td>-610.45</td>\n",
       "      <td>5392.02</td>\n",
       "      <td>FOOD</td>\n",
       "      <td>Januari</td>\n",
       "    </tr>\n",
       "    <tr>\n",
       "      <th>1037</th>\n",
       "      <td>2022-01-07</td>\n",
       "      <td>2022-01-06 WILLYS VELLINGE, VELLINGE</td>\n",
       "      <td>-226.67</td>\n",
       "      <td>4922.63</td>\n",
       "      <td>FOOD</td>\n",
       "      <td>Januari</td>\n",
       "    </tr>\n",
       "    <tr>\n",
       "      <th>...</th>\n",
       "      <td>...</td>\n",
       "      <td>...</td>\n",
       "      <td>...</td>\n",
       "      <td>...</td>\n",
       "      <td>...</td>\n",
       "      <td>...</td>\n",
       "    </tr>\n",
       "    <tr>\n",
       "      <th>15</th>\n",
       "      <td>2022-09-02</td>\n",
       "      <td>2022-09-01 COOP VÄSTRA HAMNEN, ARLÖV</td>\n",
       "      <td>-105.07</td>\n",
       "      <td>34806.26</td>\n",
       "      <td>FOOD</td>\n",
       "      <td>September</td>\n",
       "    </tr>\n",
       "    <tr>\n",
       "      <th>8</th>\n",
       "      <td>2022-09-05</td>\n",
       "      <td>2022-09-02 WILLYS VELLINGE, VELLINGE</td>\n",
       "      <td>-30.84</td>\n",
       "      <td>33793.42</td>\n",
       "      <td>FOOD</td>\n",
       "      <td>September</td>\n",
       "    </tr>\n",
       "    <tr>\n",
       "      <th>7</th>\n",
       "      <td>2022-09-05</td>\n",
       "      <td>2022-09-02 MAXI ICA STORMARKNAD MALM, MALMO</td>\n",
       "      <td>-1055.61</td>\n",
       "      <td>32737.81</td>\n",
       "      <td>FOOD</td>\n",
       "      <td>September</td>\n",
       "    </tr>\n",
       "    <tr>\n",
       "      <th>6</th>\n",
       "      <td>2022-09-05</td>\n",
       "      <td>2022-09-03 ICA KVANTUM VELLINGE, VELLINGE</td>\n",
       "      <td>-22.8</td>\n",
       "      <td>32715.01</td>\n",
       "      <td>FOOD</td>\n",
       "      <td>September</td>\n",
       "    </tr>\n",
       "    <tr>\n",
       "      <th>4</th>\n",
       "      <td>2022-09-05</td>\n",
       "      <td>2022-09-03 WILLYS VELLINGE, VELLINGE</td>\n",
       "      <td>-245</td>\n",
       "      <td>30430.01</td>\n",
       "      <td>FOOD</td>\n",
       "      <td>September</td>\n",
       "    </tr>\n",
       "  </tbody>\n",
       "</table>\n",
       "<p>180 rows × 6 columns</p>\n",
       "</div>"
      ],
      "text/plain": [
       "       BokfDatum                                  Beskrivning   Belopp  \\\n",
       "1062  2022-01-03         2021-12-30 ICA NARA LUNDEN, GOTEBORG   -173.8   \n",
       "1054  2022-01-03               2021-12-30 ICA FOCUS, GOTEBORG  -467.95   \n",
       "1050  2022-01-03        2022-01-01 ICA KVANTUM EMPORIA, MALMO  -618.49   \n",
       "1043  2022-01-05        2022-01-04 ICA KVANTUM EMPORIA, MALMO  -610.45   \n",
       "1037  2022-01-07         2022-01-06 WILLYS VELLINGE, VELLINGE  -226.67   \n",
       "...          ...                                          ...      ...   \n",
       "15    2022-09-02         2022-09-01 COOP VÄSTRA HAMNEN, ARLÖV  -105.07   \n",
       "8     2022-09-05         2022-09-02 WILLYS VELLINGE, VELLINGE   -30.84   \n",
       "7     2022-09-05  2022-09-02 MAXI ICA STORMARKNAD MALM, MALMO -1055.61   \n",
       "6     2022-09-05    2022-09-03 ICA KVANTUM VELLINGE, VELLINGE    -22.8   \n",
       "4     2022-09-05         2022-09-03 WILLYS VELLINGE, VELLINGE     -245   \n",
       "\n",
       "         Saldo kategori      month  \n",
       "1062  27144.62     FOOD    Januari  \n",
       "1054  24693.85     FOOD    Januari  \n",
       "1050  21759.36     FOOD    Januari  \n",
       "1043   5392.02     FOOD    Januari  \n",
       "1037   4922.63     FOOD    Januari  \n",
       "...        ...      ...        ...  \n",
       "15    34806.26     FOOD  September  \n",
       "8     33793.42     FOOD  September  \n",
       "7     32737.81     FOOD  September  \n",
       "6     32715.01     FOOD  September  \n",
       "4     30430.01     FOOD  September  \n",
       "\n",
       "[180 rows x 6 columns]"
      ]
     },
     "execution_count": 226,
     "metadata": {},
     "output_type": "execute_result"
    }
   ],
   "source": [
    "df"
   ]
  },
  {
   "cell_type": "code",
   "execution_count": 227,
   "id": "77ba0a44",
   "metadata": {},
   "outputs": [],
   "source": [
    "grouped = df['Belopp'].groupby(df['kategori'])"
   ]
  },
  {
   "cell_type": "code",
   "execution_count": 228,
   "id": "9e9cc72c",
   "metadata": {},
   "outputs": [],
   "source": [
    "df = df[df['kategori']=='FOOD']"
   ]
  },
  {
   "cell_type": "code",
   "execution_count": 229,
   "id": "e032e500",
   "metadata": {},
   "outputs": [
    {
     "data": {
      "text/plain": [
       "kategori\n",
       "FOOD   -73341.11\n",
       "Name: Belopp, dtype: object"
      ]
     },
     "execution_count": 229,
     "metadata": {},
     "output_type": "execute_result"
    }
   ],
   "source": [
    "grouped.sum()"
   ]
  },
  {
   "cell_type": "code",
   "execution_count": 230,
   "id": "ce7016b7",
   "metadata": {},
   "outputs": [],
   "source": [
    "grouped2= df['Belopp'].groupby([df['kategori'],df['month']])"
   ]
  },
  {
   "cell_type": "code",
   "execution_count": 231,
   "id": "ee74e8e2",
   "metadata": {},
   "outputs": [
    {
     "data": {
      "text/plain": [
       "kategori  month    \n",
       "FOOD      April        -6707.62\n",
       "          Augusti     -11758.88\n",
       "          Februari     -5063.25\n",
       "          Januari     -10994.03\n",
       "          Juli         -7351.85\n",
       "          Juni        -11660.32\n",
       "          Maj          -9344.37\n",
       "          Mars         -8726.27\n",
       "          September    -1734.52\n",
       "Name: Belopp, dtype: object"
      ]
     },
     "execution_count": 231,
     "metadata": {},
     "output_type": "execute_result"
    }
   ],
   "source": [
    "grouped2.sum()"
   ]
  },
  {
   "cell_type": "code",
   "execution_count": 217,
   "id": "66077343",
   "metadata": {},
   "outputs": [],
   "source": [
    "grouped2 = df.groupby([df['kategori'],df['month']])"
   ]
  },
  {
   "cell_type": "code",
   "execution_count": 218,
   "id": "5d006957",
   "metadata": {},
   "outputs": [
    {
     "data": {
      "text/plain": [
       "kategori  month    \n",
       "FOOD      April        -6707.62\n",
       "          Augusti     -11758.88\n",
       "          Februari     -5063.25\n",
       "          Januari     -10994.03\n",
       "          Juli         -7351.85\n",
       "          Juni        -11660.32\n",
       "          Maj          -9344.37\n",
       "          Mars         -8726.27\n",
       "          September    -1734.52\n",
       "Name: Belopp, dtype: object"
      ]
     },
     "execution_count": 218,
     "metadata": {},
     "output_type": "execute_result"
    }
   ],
   "source": [
    "grouped2['Belopp'].sum()"
   ]
  },
  {
   "cell_type": "code",
   "execution_count": 198,
   "id": "ddcb90f6",
   "metadata": {},
   "outputs": [
    {
     "data": {
      "text/plain": [
       "kategori  month    \n",
       "FOOD      April        -6707.62\n",
       "          Augusti     -11758.88\n",
       "          Februari     -5063.25\n",
       "          Januari     -10994.03\n",
       "          Juli         -7351.85\n",
       "          Juni        -11660.32\n",
       "          Maj          -9344.37\n",
       "          Mars         -8726.27\n",
       "          September    -1734.52\n",
       "Name: Belopp, dtype: object"
      ]
     },
     "execution_count": 198,
     "metadata": {},
     "output_type": "execute_result"
    }
   ],
   "source": [
    "xf['Belopp']"
   ]
  },
  {
   "cell_type": "code",
   "execution_count": 199,
   "id": "b0bfdcb7",
   "metadata": {},
   "outputs": [
    {
     "data": {
      "text/html": [
       "<div>\n",
       "<style scoped>\n",
       "    .dataframe tbody tr th:only-of-type {\n",
       "        vertical-align: middle;\n",
       "    }\n",
       "\n",
       "    .dataframe tbody tr th {\n",
       "        vertical-align: top;\n",
       "    }\n",
       "\n",
       "    .dataframe thead th {\n",
       "        text-align: right;\n",
       "    }\n",
       "</style>\n",
       "<table border=\"1\" class=\"dataframe\">\n",
       "  <thead>\n",
       "    <tr style=\"text-align: right;\">\n",
       "      <th></th>\n",
       "      <th></th>\n",
       "      <th>Belopp</th>\n",
       "    </tr>\n",
       "    <tr>\n",
       "      <th>kategori</th>\n",
       "      <th>month</th>\n",
       "      <th></th>\n",
       "    </tr>\n",
       "  </thead>\n",
       "  <tbody>\n",
       "    <tr>\n",
       "      <th rowspan=\"9\" valign=\"top\">FOOD</th>\n",
       "      <th>April</th>\n",
       "      <td>-6707.62</td>\n",
       "    </tr>\n",
       "    <tr>\n",
       "      <th>Augusti</th>\n",
       "      <td>-11758.88</td>\n",
       "    </tr>\n",
       "    <tr>\n",
       "      <th>Februari</th>\n",
       "      <td>-5063.25</td>\n",
       "    </tr>\n",
       "    <tr>\n",
       "      <th>Januari</th>\n",
       "      <td>-10994.03</td>\n",
       "    </tr>\n",
       "    <tr>\n",
       "      <th>Juli</th>\n",
       "      <td>-7351.85</td>\n",
       "    </tr>\n",
       "    <tr>\n",
       "      <th>Juni</th>\n",
       "      <td>-11660.32</td>\n",
       "    </tr>\n",
       "    <tr>\n",
       "      <th>Maj</th>\n",
       "      <td>-9344.37</td>\n",
       "    </tr>\n",
       "    <tr>\n",
       "      <th>Mars</th>\n",
       "      <td>-8726.27</td>\n",
       "    </tr>\n",
       "    <tr>\n",
       "      <th>September</th>\n",
       "      <td>-1734.52</td>\n",
       "    </tr>\n",
       "  </tbody>\n",
       "</table>\n",
       "</div>"
      ],
      "text/plain": [
       "                      Belopp\n",
       "kategori month              \n",
       "FOOD     April      -6707.62\n",
       "         Augusti   -11758.88\n",
       "         Februari   -5063.25\n",
       "         Januari   -10994.03\n",
       "         Juli       -7351.85\n",
       "         Juni      -11660.32\n",
       "         Maj        -9344.37\n",
       "         Mars       -8726.27\n",
       "         September  -1734.52"
      ]
     },
     "execution_count": 199,
     "metadata": {},
     "output_type": "execute_result"
    }
   ],
   "source": [
    "xf"
   ]
  },
  {
   "cell_type": "code",
   "execution_count": 207,
   "id": "dfbf52d6",
   "metadata": {},
   "outputs": [],
   "source": [
    "xu = x.unstack()"
   ]
  },
  {
   "cell_type": "code",
   "execution_count": 242,
   "id": "d577620e",
   "metadata": {},
   "outputs": [
    {
     "data": {
      "text/plain": [
       "(1, 9)"
      ]
     },
     "execution_count": 242,
     "metadata": {},
     "output_type": "execute_result"
    }
   ],
   "source": [
    "xu.shape\n"
   ]
  },
  {
   "cell_type": "code",
   "execution_count": 212,
   "id": "96e82b12",
   "metadata": {},
   "outputs": [
    {
     "data": {
      "text/plain": [
       "kategori\n",
       "FOOD   -6707.62\n",
       "Name: April, dtype: object"
      ]
     },
     "execution_count": 212,
     "metadata": {},
     "output_type": "execute_result"
    }
   ],
   "source": [
    "xu['April']"
   ]
  },
  {
   "cell_type": "code",
   "execution_count": 219,
   "id": "eb75ce27",
   "metadata": {},
   "outputs": [
    {
     "data": {
      "text/plain": [
       "[<matplotlib.lines.Line2D at 0x16af8179cf0>]"
      ]
     },
     "execution_count": 219,
     "metadata": {},
     "output_type": "execute_result"
    },
    {
     "data": {
      "image/png": "[encoded data removed]",
      "text/plain": [
       "<Figure size 640x480 with 1 Axes>"
      ]
     },
     "metadata": {},
     "output_type": "display_data"
    }
   ],
   "source": [
    "import matplotlib.pyplot as plt\n",
    "data = df['Belopp']\n",
    "plt.plot(data)"
   ]
  },
  {
   "cell_type": "code",
   "execution_count": 234,
   "id": "3c591c1d",
   "metadata": {},
   "outputs": [
    {
     "data": {
      "image/png": "[encoded data removed]",
      "text/plain": [
       "<Figure size 640x480 with 1 Axes>"
      ]
     },
     "metadata": {},
     "output_type": "display_data"
    }
   ],
   "source": [
    "import seaborn as sns\n",
    "sns.set_theme(style=\"whitegrid\")\n",
    "ax = sns.barplot(x=df[\"month\"], y=df[\"Belopp\"], data=df)\n",
    "#ax = sns.catplot(x=df[\"month\"], y=df[\"Belopp\"], kind=\"box\",data=df)"
   ]
  },
  {
   "cell_type": "code",
   "execution_count": null,
   "id": "5b653b56",
   "metadata": {},
   "outputs": [],
   "source": []
  }
 ],
 "metadata": {
  "kernelspec": {
   "display_name": "Python 3 (ipykernel)",
   "language": "python",
   "name": "python3"
  },
  "language_info": {
   "codemirror_mode": {
    "name": "ipython",
    "version": 3
   },
   "file_extension": ".py",
   "mimetype": "text/x-python",
   "name": "python",
   "nbconvert_exporter": "python",
   "pygments_lexer": "ipython3",
   "version": "3.10.6"
  }
 },
 "nbformat": 4,
 "nbformat_minor": 5
}
